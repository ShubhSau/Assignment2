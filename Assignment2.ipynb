{
 "cells": [
  {
   "cell_type": "markdown",
   "id": "43598bd9-a80f-4168-884c-df8e3a54c025",
   "metadata": {},
   "source": [
    "Q1. How do you comment code in Python? What are the different types of comments?"
   ]
  },
  {
   "cell_type": "markdown",
   "id": "76112859-e37d-4f7b-8faf-648327478a4b",
   "metadata": {},
   "source": [
    "A1. We can comment code in python by using # symbol.\n",
    "    There are two types of comments we are using in python:\n",
    "    1. Single-line comments: These comments begin with a hash character (#) and continue until the end of the line.\n",
    "    \n",
    "    2. Multi-line comments: These comments span multiple lines and are enclosed between triple quotes (''' or \"\"\"). \n",
    "    They are often used for documentation."
   ]
  },
  {
   "cell_type": "markdown",
   "id": "879de030-362e-4793-9607-20e84d8b4f1b",
   "metadata": {},
   "source": [
    "Q2. What are variables in Python? How do you declare and assign values to variables?"
   ]
  },
  {
   "cell_type": "markdown",
   "id": "abe9b8ea-e4f1-487d-b9ea-81bda3198335",
   "metadata": {},
   "source": [
    "A2. Variables are used to store data or values that can be used within a program. A variable is a name that represents a memory location where the data is stored."
   ]
  },
  {
   "cell_type": "markdown",
   "id": "f9ad3dd6-27a3-482b-a101-b527a55b49a8",
   "metadata": {},
   "source": [
    "# Example\n",
    "Variable_name = value\n",
    "\n",
    "# Assigning integer value\n",
    "age = 25\n",
    "\n",
    "# Assigning string value\n",
    "name = \"Shubh\"\n",
    "\n",
    "# Assigning floating-point value\n",
    "f = 63.52\n",
    "\n",
    "# Assigning boolean value\n",
    "b = True\n"
   ]
  },
  {
   "cell_type": "markdown",
   "id": "b6972638-8b2e-4d86-ae21-da6ae1d46b2c",
   "metadata": {},
   "source": [
    "Q3. How do you convert one data type to another in Python?"
   ]
  },
  {
   "cell_type": "markdown",
   "id": "e5dc17b3-c0fc-4e20-9dfd-9ccdf99cb1c6",
   "metadata": {
    "tags": []
   },
   "source": [
    "A3. We can convert one data type to another using built-in functions specifically designed for type conversion. Here are some commonly used methods for type conversion:\n",
    "\n",
    "# Converting to integer\n",
    "num_str = \"10\"\n",
    "num_int = int(num_str)\n",
    "\n",
    "# Converting to float\n",
    "num_int = 5\n",
    "num_float = float(num_int)\n",
    "\n",
    "# Converting to string\n",
    "value = 42\n",
    "value_str = str(value)\n"
   ]
  },
  {
   "cell_type": "markdown",
   "id": "fc639366-0077-4fa5-b206-504f4ba313af",
   "metadata": {},
   "source": [
    "Q4. How do you write and execute a Python script from the command line?"
   ]
  },
  {
   "cell_type": "markdown",
   "id": "09181bbd-e285-4221-9bf9-d48353298292",
   "metadata": {},
   "source": [
    "A4. To write and execute a Python script from the command line, you can follow these steps:\n",
    "\n",
    "1. Open a text editor and create a new file. Save it with a .py extension, which is the standard file extension for Python scripts. For example, you can create a file named 'script.py'.\n",
    "\n",
    "2. Write your python code in file. Here is a simple python script to print ‘Hello World!’:\n",
    "\n",
    "print('Hello World!')\n",
    "\n",
    "3. To run a Python script store in a ‘.py’ file in command line, we have to write ‘python’ keyword before the file name in the command prompt.\n",
    "\n",
    "python hello.py\n",
    "\n",
    "4. Press Enter to run the command. The Python interpreter will execute the script, and you should see the output in the command line:\n",
    "\n",
    "Hello World!"
   ]
  },
  {
   "cell_type": "markdown",
   "id": "ba1d8e3f-df46-40f1-ab78-96d2a9c3c21f",
   "metadata": {},
   "source": [
    "Q5. Given a list my_list = [1, 2, 3, 4, 5], write the code to slice the list and obtain the sub-list [2, 3]."
   ]
  },
  {
   "cell_type": "code",
   "execution_count": 1,
   "id": "3a54e000-b5ed-4629-81ee-4101df1598b2",
   "metadata": {},
   "outputs": [
    {
     "name": "stdout",
     "output_type": "stream",
     "text": [
      "[2, 3]\n"
     ]
    }
   ],
   "source": [
    "my_list = [1,2,3,4,5]\n",
    "sub_list = my_list[1:3]\n",
    "print(sub_list)"
   ]
  },
  {
   "cell_type": "markdown",
   "id": "e0de365b-0770-46a4-addd-5a13312afcd7",
   "metadata": {},
   "source": [
    "Q6. What is a complex number in mathematics, and how is it represented in Python?"
   ]
  },
  {
   "cell_type": "markdown",
   "id": "1c1b5c0d-dca8-4076-857a-f91633864946",
   "metadata": {},
   "source": [
    "A6. A complex number is a number that comprises a real part and an imaginary part. It is written in the form 'a + bj', where 'a' represents the real part and 'b' represents the imaginary part, and 'j' is the imaginary unit defined as the square root of -1. The real and imaginary parts can be any real numbers.\n",
    "\n",
    "c1 = 2 + 3j\n",
    "c2 = -2.6 + 9j\n",
    "c3 = 5j"
   ]
  },
  {
   "cell_type": "markdown",
   "id": "d590a9df-b947-407c-b3b1-df1d6b624d0f",
   "metadata": {},
   "source": [
    "Q7. What is the correct way to declare a variable named age and assign the value 25 to it?"
   ]
  },
  {
   "cell_type": "code",
   "execution_count": 2,
   "id": "ae40e1ea-809d-47b8-98bd-36cb674c3697",
   "metadata": {},
   "outputs": [],
   "source": [
    "age = 25"
   ]
  },
  {
   "cell_type": "markdown",
   "id": "f4b86e21-b577-4ae8-8445-90a619660a03",
   "metadata": {},
   "source": [
    "Q8. Declare a variable named price and assign the value 9.99 to it. What data type does this variable\n",
    "belong to?"
   ]
  },
  {
   "cell_type": "code",
   "execution_count": 3,
   "id": "d76c02ef-f511-4f88-8bb2-d0edd134b7c7",
   "metadata": {},
   "outputs": [],
   "source": [
    "price = 9.99"
   ]
  },
  {
   "cell_type": "code",
   "execution_count": 4,
   "id": "883e10cd-4890-4da9-bfc1-2dc5e20a38d8",
   "metadata": {},
   "outputs": [
    {
     "data": {
      "text/plain": [
       "float"
      ]
     },
     "execution_count": 4,
     "metadata": {},
     "output_type": "execute_result"
    }
   ],
   "source": [
    "type(price)"
   ]
  },
  {
   "cell_type": "markdown",
   "id": "460dfb4f-8ce8-4882-a0cb-067997b3a83e",
   "metadata": {},
   "source": [
    "Q9. Create a variable named name and assign your full name to it as a string. How would you print the\n",
    "value of this variable?"
   ]
  },
  {
   "cell_type": "code",
   "execution_count": 5,
   "id": "2ee607c1-13b6-474e-8567-28f448d2ccc4",
   "metadata": {},
   "outputs": [
    {
     "name": "stdout",
     "output_type": "stream",
     "text": [
      "Shubham Kr Saurabh\n"
     ]
    }
   ],
   "source": [
    "name = \"Shubham Kr Saurabh\"\n",
    "print(name)"
   ]
  },
  {
   "cell_type": "markdown",
   "id": "167d60a6-c5df-4150-a7ae-936f43c69e30",
   "metadata": {},
   "source": [
    "Q10. Given the string \"Hello, World!\", extract the substring \"World\"."
   ]
  },
  {
   "cell_type": "code",
   "execution_count": 7,
   "id": "a79d78ab-0f73-4be4-8bf7-4714b105ccc7",
   "metadata": {},
   "outputs": [
    {
     "name": "stdout",
     "output_type": "stream",
     "text": [
      "World\n"
     ]
    }
   ],
   "source": [
    "str = \"Hello, World!\"\n",
    "sub_str = str[7:12]\n",
    "print(sub_str)"
   ]
  },
  {
   "cell_type": "markdown",
   "id": "83841b81-4867-4430-9ef9-847a171ff855",
   "metadata": {},
   "source": [
    "Q11. Create a variable named \"is_student\" and assign it a boolean value indicating whether you are\n",
    "currently a student or not."
   ]
  },
  {
   "cell_type": "code",
   "execution_count": 9,
   "id": "4fa59e86-4b64-4248-8970-71fc1bc8886b",
   "metadata": {},
   "outputs": [],
   "source": [
    "is_student = True"
   ]
  },
  {
   "cell_type": "code",
   "execution_count": null,
   "id": "d1ca5ab4-b507-4cc0-b320-19b713c77fc0",
   "metadata": {},
   "outputs": [],
   "source": []
  }
 ],
 "metadata": {
  "kernelspec": {
   "display_name": "Python 3 (ipykernel)",
   "language": "python",
   "name": "python3"
  },
  "language_info": {
   "codemirror_mode": {
    "name": "ipython",
    "version": 3
   },
   "file_extension": ".py",
   "mimetype": "text/x-python",
   "name": "python",
   "nbconvert_exporter": "python",
   "pygments_lexer": "ipython3",
   "version": "3.10.8"
  }
 },
 "nbformat": 4,
 "nbformat_minor": 5
}
